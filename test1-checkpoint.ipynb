{
 "cells": [
  {
   "cell_type": "code",
   "execution_count": 1,
   "id": "2b95917a",
   "metadata": {},
   "outputs": [],
   "source": [
    "import cv2\n",
    "import numpy as np"
   ]
  },
  {
   "cell_type": "code",
   "execution_count": null,
   "id": "ebdbcaa3",
   "metadata": {},
   "outputs": [],
   "source": []
  },
  {
   "cell_type": "code",
   "execution_count": 2,
   "id": "45e8b49b",
   "metadata": {},
   "outputs": [],
   "source": [
    "cap=cv2.imread(\"16.jpeg\")\n",
    "frame=cap"
   ]
  },
  {
   "cell_type": "code",
   "execution_count": null,
   "id": "0bdd5b2c",
   "metadata": {},
   "outputs": [],
   "source": []
  },
  {
   "cell_type": "code",
   "execution_count": 3,
   "id": "5725167b",
   "metadata": {},
   "outputs": [],
   "source": [
    "hsv = cv2.cvtColor(frame, cv2.COLOR_BGR2HSV)\n",
    "mask1 = cv2.inRange(hsv,(0, 40, 21), (11, 255, 249))\n",
    "mask1 = cv2.bitwise_not(mask1)\n",
    "cv2.imshow(\"m2\", frame);\n",
    "cv2.imshow(\"m1\", mask1);\n",
    "cv2.waitKey(0)\n",
    "cv2.destroyAllWindows()"
   ]
  },
  {
   "cell_type": "code",
   "execution_count": 4,
   "id": "6785b939",
   "metadata": {},
   "outputs": [
    {
     "name": "stdout",
     "output_type": "stream",
     "text": [
      "58.86100260416667\n"
     ]
    }
   ],
   "source": [
    "img1=cv2.bitwise_and(frame,frame,mask=mask1)\n",
    "hsv = cv2.cvtColor(img1, cv2.COLOR_BGR2HSV)\n",
    "mask2=cv2.inRange(hsv,(9, 20, 20), (35, 255, 255) )\n",
    "\n",
    "des = mask2.copy()\n",
    "#des= cv2.bitwise_not(des)\n",
    "contour,hier = cv2.findContours(des,cv2.RETR_CCOMP,cv2.CHAIN_APPROX_SIMPLE)\n",
    "\n",
    "for cnt in contour:\n",
    "    cv2.drawContours(des,[cnt],0,255,-1)\n",
    "cv2.imshow(\"m3\", des);\n",
    "mask2=des\n",
    "cv2.waitKey(0)\n",
    "cv2.destroyAllWindows()\n",
    "\n",
    "\n",
    "pixels = cv2.countNonZero(mask1) # OR\n",
    "image_area = frame.shape[0] * frame.shape[1]\n",
    "area_ratio = (pixels / image_area) * 100\n",
    "print(area_ratio)\n",
    "if(area_ratio<80):\n",
    "    des = mask2.copy()\n",
    "    #des= cv2.bitwise_not(des)\n",
    "    contour,hier = cv2.findContours(des,cv2.RETR_CCOMP,cv2.CHAIN_APPROX_SIMPLE)\n",
    "\n",
    "    for cnt in contour:\n",
    "        cv2.drawContours(des,[cnt],0,255,-1)\n",
    "    \n",
    "    cv2.imshow(\"m3\", des);\n",
    "    mask1=des\n",
    "    cv2.waitKey(0)\n",
    "    cv2.destroyAllWindows()\n"
   ]
  },
  {
   "cell_type": "code",
   "execution_count": 5,
   "id": "8f250798",
   "metadata": {},
   "outputs": [],
   "source": [
    "teeth = cv2.bitwise_and(frame,frame, mask=mask2)\n",
    "\n",
    "cv2.imshow(\"gums\", teeth);\n",
    "cv2.waitKey(0)\n",
    "cv2.destroyAllWindows()"
   ]
  },
  {
   "cell_type": "code",
   "execution_count": 6,
   "id": "2f52148d",
   "metadata": {},
   "outputs": [],
   "source": [
    "hsv = cv2.cvtColor(frame.copy(), cv2.COLOR_BGR2HSV)\n",
    "mask = cv2.inRange(hsv, (1, 69, 66),(92,146,104) )\n",
    "cavity = cv2.bitwise_and(frame,frame, mask=mask)\n",
    "#cv2.imshow('Green',teeth)\n",
    "cv2.imshow('mask',mask)\n",
    "cv2.imshow('hola1',cavity)\n",
    "cv2.imshow('orig',frame)\n",
    "cv2.waitKey(0)\n",
    "cv2.destroyAllWindows()"
   ]
  },
  {
   "cell_type": "code",
   "execution_count": 7,
   "id": "1de69590",
   "metadata": {},
   "outputs": [],
   "source": [
    "def count_pixel(x,w,y,h,img):\n",
    "    count=0;\n",
    "    for i in range(x,x+w):\n",
    "        for j in range(y,y+h):\n",
    "            if(img[j,i]==0 ):\n",
    "                count+=1;\n",
    "    print(\"c:\"+str(count))\n",
    "    return count\n"
   ]
  },
  {
   "cell_type": "code",
   "execution_count": 8,
   "id": "0dc70cf6",
   "metadata": {},
   "outputs": [
    {
     "name": "stdout",
     "output_type": "stream",
     "text": [
      "(1280, 960)\n",
      "c:0\n",
      "c:0\n",
      "c:800\n",
      "c:117\n",
      "c:761\n",
      "c:4\n",
      "c:92\n",
      "c:24956\n",
      "c:2632\n",
      "c:1\n",
      "c:997\n",
      "c:0\n",
      "c:850\n",
      "c:6515\n",
      "c:51\n",
      "c:52\n",
      "c:85\n",
      "c:160\n",
      "c:536\n",
      "c:102\n",
      "c:12526\n",
      "c:37\n",
      "c:2391\n",
      "c:190\n",
      "c:293\n",
      "c:45\n",
      "c:377\n",
      "c:606878\n"
     ]
    },
    {
     "data": {
      "text/plain": [
       "\"cv2.imshow('output',output_img)\\ncv2.imshow('output1',mask)\\ncv2.imshow('output2',m1)\\ncv2.waitKey(0)\\ncv2.destroyAllWindows()\""
      ]
     },
     "execution_count": 8,
     "metadata": {},
     "output_type": "execute_result"
    }
   ],
   "source": [
    "#pixels = cv2.countNonZero(mask) # OR\n",
    "image_area = frame.shape[0] * frame.shape[1]\n",
    "#area_ratio = (pixels / image_area) * 100\n",
    "\n",
    "kernel = np.ones((20,20), np.uint8)\n",
    "img = cv2.dilate(mask, kernel, iterations=1)\n",
    "print(img.shape)\n",
    "output_img=frame.copy()\n",
    "m1= np.zeros((frame.shape[0],frame.shape[1],1), np.uint8)\n",
    "contours,x= cv2.findContours(img.copy(), cv2.RETR_EXTERNAL, cv2.CHAIN_APPROX_SIMPLE)\n",
    "for c in contours:\n",
    "    # get the bounding rect\n",
    "    x, y, w, h = cv2.boundingRect(c)\n",
    "    \n",
    "    # draw a white rectangle to visualize the bounding rect\n",
    " \n",
    "\n",
    "    if(count_pixel(x,w,y,h,img)<=w*h*0.35):\n",
    "        cv2.drawContours(m1,[c],0,255,-1)\n",
    "        cv2.rectangle(output_img, (x, y), (x + w, y + h), 255, 1)\n",
    "\n",
    "\"\"\"cv2.imshow('output',output_img)\n",
    "cv2.imshow('output1',mask)\n",
    "cv2.imshow('output2',m1)\n",
    "cv2.waitKey(0)\n",
    "cv2.destroyAllWindows()\"\"\""
   ]
  },
  {
   "cell_type": "code",
   "execution_count": 9,
   "id": "a3ac43e0",
   "metadata": {},
   "outputs": [
    {
     "name": "stderr",
     "output_type": "stream",
     "text": [
      "<ipython-input-9-69306540b256>:35: FutureWarning: arrays to stack must be passed as a \"sequence\" type such as list or tuple. Support for non-sequence iterables such as generators is deprecated as of NumPy 1.16 and will raise an error in the future.\n",
      "  cont = np.vstack(contours[i] for i in pos)\n"
     ]
    }
   ],
   "source": [
    "def find_if_close(cnt1,cnt2):\n",
    "    row1,row2 = cnt1.shape[0],cnt2.shape[0]\n",
    "    for i in range(row1):\n",
    "        for j in range(row2):\n",
    "            dist = np.linalg.norm(cnt1[i]-cnt2[j])\n",
    "            if abs(dist) < 50 :\n",
    "                return True\n",
    "            elif i==row1-1 and j==row2-1:\n",
    "                return False\n",
    "            \n",
    "img=frame.copy()\n",
    "thresh=m1.copy()\n",
    "contours,hier = cv2.findContours(thresh,cv2.RETR_EXTERNAL,2)\n",
    "LENGTH = len(contours)\n",
    "status = np.zeros((LENGTH,1))\n",
    "\n",
    "for i,cnt1 in enumerate(contours):\n",
    "    x = i    \n",
    "    if i != LENGTH-1:\n",
    "        for j,cnt2 in enumerate(contours[i+1:]):\n",
    "            x = x+1\n",
    "            dist = find_if_close(cnt1,cnt2)\n",
    "            if dist == True:\n",
    "                val = min(status[i],status[x])\n",
    "                status[x] = status[i] = val\n",
    "            else:\n",
    "                if status[x]==status[i]:\n",
    "                    status[x] = i+1\n",
    "\n",
    "unified = []\n",
    "maximum = int(status.max())+1\n",
    "for i in range(maximum):\n",
    "    pos = np.where(status==i)[0]\n",
    "    if pos.size != 0:\n",
    "        cont = np.vstack(contours[i] for i in pos)\n",
    "        hull = cv2.convexHull(cont)\n",
    "        unified.append(hull)\n",
    "\n",
    "cv2.drawContours(img,unified,-1,(0,255,0),2)\n",
    "cv2.drawContours(thresh,unified,-1,255,-1)\n",
    "cv2.imshow('output',img)\n",
    "cv2.imshow('output1',thresh)\n",
    "cv2.waitKey(0)\n",
    "cv2.destroyAllWindows()"
   ]
  },
  {
   "cell_type": "code",
   "execution_count": 10,
   "id": "865dccb3",
   "metadata": {},
   "outputs": [
    {
     "name": "stdout",
     "output_type": "stream",
     "text": [
      "c:0\n",
      "0.0\n",
      "c:0\n",
      "0.0\n",
      "c:800\n",
      "33.44481605351171\n",
      "c:117\n",
      "12.037037037037036\n",
      "c:761\n",
      "28.185185185185187\n",
      "c:4\n",
      "0.7905138339920948\n",
      "c:92\n",
      "11.794871794871796\n",
      "c:24956\n",
      "61.392373923739235\n",
      "c:2632\n",
      "42.62348178137652\n",
      "c:1\n",
      "0.21645021645021645\n",
      "c:997\n",
      "31.955128205128204\n",
      "c:0\n",
      "0.0\n",
      "c:850\n",
      "31.539888682745826\n",
      "c:6515\n",
      "50.7398753894081\n",
      "c:51\n",
      "7.264957264957265\n",
      "c:52\n",
      "5.942857142857143\n",
      "c:85\n",
      "9.486607142857142\n",
      "c:160\n",
      "13.793103448275861\n",
      "c:536\n",
      "31.34502923976608\n",
      "c:102\n",
      "13.52785145888594\n",
      "c:12526\n",
      "51.06192165015695\n",
      "c:37\n",
      "4.817708333333333\n",
      "c:2391\n",
      "46.91915227629514\n",
      "c:190\n",
      "14.393939393939394\n",
      "c:293\n",
      "17.03488372093023\n",
      "c:45\n",
      "4.891304347826087\n",
      "c:377\n",
      "17.25400457665904\n",
      "c:606878\n",
      "61.19695869635366\n"
     ]
    }
   ],
   "source": [
    "image_area = frame.shape[0] * frame.shape[1]\n",
    "#area_ratio = (pixels / image_area) * 100\n",
    "#print(image_area*0.00005)\n",
    "kernel = np.ones((20,20), np.uint8)\n",
    "img = cv2.dilate(mask, kernel, iterations=1)\n",
    "#print(img.shape)\n",
    "output_img=frame.copy()\n",
    "contours,x= cv2.findContours(img.copy(), cv2.RETR_EXTERNAL, cv2.CHAIN_APPROX_SIMPLE)\n",
    "for c in contours:\n",
    "    # get the bounding rect\n",
    "    x, y, w, h = cv2.boundingRect(c)\n",
    "    #Area of cavity\n",
    "    print( 100* count_pixel(x,w,y,h,img)/(w*h))\n",
    "    # draw a white rectangle to visualize the bounding rect\n",
    "    cv2.rectangle(output_img, (x, y), (x + w, y + h), 255, 1)\n",
    "\n",
    "cv2.imshow('output',output_img)\n",
    "cv2.waitKey(0)\n",
    "cv2.destroyAllWindows()"
   ]
  },
  {
   "cell_type": "code",
   "execution_count": null,
   "id": "6f6635cc",
   "metadata": {},
   "outputs": [],
   "source": []
  },
  {
   "cell_type": "code",
   "execution_count": null,
   "id": "a3ce3a5e",
   "metadata": {},
   "outputs": [],
   "source": []
  }
 ],
 "metadata": {
  "kernelspec": {
   "display_name": "Python [conda env:openCv] *",
   "language": "python",
   "name": "conda-env-openCv-py"
  },
  "language_info": {
   "codemirror_mode": {
    "name": "ipython",
    "version": 3
   },
   "file_extension": ".py",
   "mimetype": "text/x-python",
   "name": "python",
   "nbconvert_exporter": "python",
   "pygments_lexer": "ipython3",
   "version": "3.8.8"
  }
 },
 "nbformat": 4,
 "nbformat_minor": 5
}
