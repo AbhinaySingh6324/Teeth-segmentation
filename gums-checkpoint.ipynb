{
 "cells": [
  {
   "cell_type": "code",
   "execution_count": 2,
   "metadata": {},
   "outputs": [],
   "source": [
    "import cv2\n",
    "import numpy as np"
   ]
  },
  {
   "cell_type": "markdown",
   "metadata": {},
   "source": [
    "# Gums Detection"
   ]
  },
  {
   "cell_type": "code",
   "execution_count": 35,
   "metadata": {},
   "outputs": [],
   "source": [
    "#image2=cap.copy()\n",
    "#himg = cv2.cvtColor(image2, cv2.COLOR_BGR2HSV)\n",
    "cap=cv2.imread(\"3.jpg\")\n",
    "frame=cap\n",
    "hsv = cv2.cvtColor(frame, cv2.COLOR_BGR2HSV)\n",
    "mask1 = cv2.inRange(hsv,(0, 20, 20), (15, 255, 255) )\n",
    "cv2.imshow(\"m1\", mask1);\n",
    "gums = cv2.bitwise_and(frame,frame, mask=mask1)\n",
    "cv2.imshow(\"gums\", gums);\n",
    "cv2.waitKey(0)\n",
    "cv2.destroyAllWindows()"
   ]
  },
  {
   "cell_type": "markdown",
   "metadata": {},
   "source": [
    "# Contour Creation "
   ]
  },
  {
   "cell_type": "code",
   "execution_count": 36,
   "metadata": {},
   "outputs": [],
   "source": [
    "image=gums.copy()\n",
    "cv2.imshow('Original',gums)\n",
    "edges = cv2.Canny(gums,100,150)\n",
    "cv2.imshow('Edges',edges)\n",
    "# Exit Condition wait 5 msec and Esc is pressed\n",
    "cv2.waitKey(0)\n",
    "cv2.destroyAllWindows()\n",
    "contours, hierarchy= cv2.findContours(edges, cv2.RETR_EXTERNAL, cv2.CHAIN_APPROX_SIMPLE)\n",
    "cv2.drawContours(image, contours, -1, (0,255,0),1)\n",
    "cv2.imshow('External Contours', image) \n",
    "cv2.waitKey(0)\n",
    "cv2.destroyAllWindows()\n",
    "\n",
    "# Gray color detection\n",
    "#mask1 = cv2.inRange(hsv,(23, 20, 20), (40, 255, 255)"
   ]
  },
  {
   "cell_type": "markdown",
   "metadata": {},
   "source": [
    "# Removing area outside the lips"
   ]
  },
  {
   "cell_type": "code",
   "execution_count": null,
   "metadata": {},
   "outputs": [],
   "source": []
  }
 ],
 "metadata": {
  "kernelspec": {
   "display_name": "opencv",
   "language": "python",
   "name": "opencv"
  },
  "language_info": {
   "codemirror_mode": {
    "name": "ipython",
    "version": 3
   },
   "file_extension": ".py",
   "mimetype": "text/x-python",
   "name": "python",
   "nbconvert_exporter": "python",
   "pygments_lexer": "ipython3",
   "version": "3.8.5"
  }
 },
 "nbformat": 4,
 "nbformat_minor": 4
}
