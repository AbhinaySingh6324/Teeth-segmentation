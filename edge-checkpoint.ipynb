{
 "cells": [
  {
   "cell_type": "code",
   "execution_count": 1,
   "metadata": {},
   "outputs": [],
   "source": [
    "import cv2\n",
    "import numpy as np\n",
    "\n",
    "cap=cv2.imread(\"3.jpg\")\n",
    "frame=cap\n",
    "hsv = cv2.cvtColor(frame, cv2.COLOR_BGR2HSV)\n",
    "lower_red = np.array([30,150,50])\n",
    "upper_red = np.array([255,255,180])\n",
    "mask = cv2.inRange(hsv, lower_red, upper_red)\n",
    "res = cv2.bitwise_and(frame,frame, mask= mask)\n",
    "cv2.imshow('Original',frame)\n",
    "edges = cv2.Canny(frame,100,150)\n",
    "cv2.imshow('Edges',edges)\n",
    "cv2.waitKey(0)\n",
    "cv2.destroyAllWindows()"
   ]
  },
  {
   "cell_type": "code",
   "execution_count": 2,
   "metadata": {},
   "outputs": [],
   "source": [
    "def green_and(img1,img2):\n",
    "    for i in range(0,img1.shape[0]):\n",
    "        for j in range(0,img1.shape[1]):\n",
    "            if(img1[i,j,0]==255 and img1[i,j,1]==255 and img1[i,j,2]==255 ):\n",
    "                img1[i,j]=(img2[i,j,0],img2[i,j,1],img2[i,j,2])\n",
    "\n",
    "    "
   ]
  },
  {
   "cell_type": "code",
   "execution_count": 3,
   "metadata": {},
   "outputs": [],
   "source": [
    "image2=cap.copy()\n",
    "himg = cv2.cvtColor(image2, cv2.COLOR_BGR2HSV)\n",
    "\n",
    "mask1 = cv2.inRange(hsv,(9, 20, 20), (35, 255, 255) )\n",
    "cv2.imshow(\"m1\", mask1);"
   ]
  },
  {
   "cell_type": "code",
   "execution_count": 4,
   "metadata": {},
   "outputs": [],
   "source": [
    "#filiing small holes in mask\n",
    "\"\"\"des = cv2.bitwise_not(mask1)\n",
    "contour,hier = cv2.findContours(des,cv2.RETR_CCOMP,cv2.CHAIN_APPROX_SIMPLE)\n",
    "\n",
    "for cnt in contour:\n",
    "    cv2.drawContours(des,[cnt],0,255,-1)\n",
    "\n",
    "mask1 = cv2.bitwise_not(des)\n",
    "\"\"\"\n",
    "des = mask1.copy()\n",
    "contour,hier = cv2.findContours(des,cv2.RETR_CCOMP,cv2.CHAIN_APPROX_SIMPLE)\n",
    "\n",
    "for cnt in contour:\n",
    "    cv2.drawContours(des,[cnt],0,255,-1)\n",
    "cv2.imshow(\"m3\", des);\n",
    "mask1=des"
   ]
  },
  {
   "cell_type": "code",
   "execution_count": 5,
   "metadata": {
    "scrolled": true
   },
   "outputs": [
    {
     "data": {
      "text/plain": [
       "\"\\nfor row in teeth:\\n    for col in row:\\n        if col[0]==0 and col[1]==0 and col[2]==0:\\n            print(col)\\n            col=[0,255,0]\\n\\n\\n\\ncv2.imshow('hola1',frame)\\ncv2.imshow('hola',teeth)\\ncv2.waitKey(0)\\ncv2.destroyAllWindows()\\n\""
      ]
     },
     "execution_count": 5,
     "metadata": {},
     "output_type": "execute_result"
    }
   ],
   "source": [
    "cv2.imshow(\"m2\", mask1);\n",
    "cv2.waitKey(0)\n",
    "cv2.destroyAllWindows()\n",
    "kernel = np.ones((5,5),np.uint8)\n",
    "opening = cv2.morphologyEx(mask1, cv2.MORPH_OPEN, kernel)\n",
    "oNew = cv2.cvtColor(opening, cv2.COLOR_GRAY2RGB)\n",
    "oNew[np.where((oNew==[0,0,0]).all(axis=2))] = [0,255,0]\n",
    "green_and(oNew,cap.copy())\n",
    "cv2.imshow('Green',oNew)\n",
    "cv2.imshow('Opening',opening)\n",
    "cv2.waitKey(0)\n",
    "cv2.destroyAllWindows()\n",
    "teeth = cv2.bitwise_and(image2,image2, mask=opening)\n",
    "\"\"\"\n",
    "for row in teeth:\n",
    "    for col in row:\n",
    "        if col[0]==0 and col[1]==0 and col[2]==0:\n",
    "            print(col)\n",
    "            col=[0,255,0]\n",
    "\n",
    "\n",
    "\n",
    "cv2.imshow('hola1',frame)\n",
    "cv2.imshow('hola',teeth)\n",
    "cv2.waitKey(0)\n",
    "cv2.destroyAllWindows()\n",
    "\"\"\""
   ]
  },
  {
   "cell_type": "code",
   "execution_count": 6,
   "metadata": {},
   "outputs": [],
   "source": [
    "rgb = cv2.cvtColor(oNew.copy(), cv2.COLOR_BGR2RGB)\n",
    "mask = cv2.inRange(rgb, (0, 0, 0),(180,60,50) )\n",
    "\n",
    "cavity = cv2.bitwise_and(frame,frame, mask=mask)\n",
    "cv2.imshow('Green',oNew)\n",
    "cv2.imshow('mask',mask)\n",
    "cv2.imshow('hola1',cavity)\n",
    "cv2.imshow('orig',frame)\n",
    "cv2.waitKey(0)\n",
    "cv2.destroyAllWindows()\n"
   ]
  },
  {
   "cell_type": "code",
   "execution_count": 7,
   "metadata": {},
   "outputs": [
    {
     "data": {
      "text/plain": [
       "\"\\nkernel = np.ones((20,20), np.uint8)\\nimg = cv2.dilate(mask, kernel, iterations=1)\\noutput_img=frame.copy()\\ncontours,x= cv2.findContours(img.copy(), cv2.RETR_EXTERNAL, cv2.CHAIN_APPROX_SIMPLE)\\nfor c in contours:\\n    # get the bounding rect\\n    x, y, w, h = cv2.boundingRect(c)\\n    # draw a white rectangle to visualize the bounding rect\\n    cv2.rectangle(output_img, (x, y), (x + w, y + h), 255, 1)\\n\\ncv2.imshow('output',output_img)\\ncv2.waitKey(0)\\ncv2.destroyAllWindows()\\n\""
      ]
     },
     "execution_count": 7,
     "metadata": {},
     "output_type": "execute_result"
    }
   ],
   "source": [
    "\"\"\"\n",
    "kernel = np.ones((20,20), np.uint8)\n",
    "img = cv2.dilate(mask, kernel, iterations=1)\n",
    "output_img=frame.copy()\n",
    "contours,x= cv2.findContours(img.copy(), cv2.RETR_EXTERNAL, cv2.CHAIN_APPROX_SIMPLE)\n",
    "for c in contours:\n",
    "    # get the bounding rect\n",
    "    x, y, w, h = cv2.boundingRect(c)\n",
    "    # draw a white rectangle to visualize the bounding rect\n",
    "    cv2.rectangle(output_img, (x, y), (x + w, y + h), 255, 1)\n",
    "\n",
    "cv2.imshow('output',output_img)\n",
    "cv2.waitKey(0)\n",
    "cv2.destroyAllWindows()\n",
    "\"\"\"\n"
   ]
  },
  {
   "cell_type": "code",
   "execution_count": 8,
   "metadata": {},
   "outputs": [
    {
     "name": "stderr",
     "output_type": "stream",
     "text": [
      "<ipython-input-8-abb9f89d4f97>:35: FutureWarning: arrays to stack must be passed as a \"sequence\" type such as list or tuple. Support for non-sequence iterables such as generators is deprecated as of NumPy 1.16 and will raise an error in the future.\n",
      "  cont = np.vstack(contours[i] for i in pos)\n"
     ]
    }
   ],
   "source": [
    "\"\"\"\n",
    "def find_if_close(cnt1,cnt2):\n",
    "    row1,row2 = cnt1.shape[0],cnt2.shape[0]\n",
    "    for i in range(row1):\n",
    "        for j in range(row2):\n",
    "            dist = np.linalg.norm(cnt1[i]-cnt2[j])\n",
    "            if abs(dist) < 50 :\n",
    "                return True\n",
    "            elif i==row1-1 and j==row2-1:\n",
    "                return False\n",
    "            \n",
    "img=frame.copy()\n",
    "thresh=mask.copy()\n",
    "contours,hier = cv2.findContours(thresh,cv2.RETR_EXTERNAL,2)\n",
    "LENGTH = len(contours)\n",
    "status = np.zeros((LENGTH,1))\n",
    "\n",
    "for i,cnt1 in enumerate(contours):\n",
    "    x = i    \n",
    "    if i != LENGTH-1:\n",
    "        for j,cnt2 in enumerate(contours[i+1:]):\n",
    "            x = x+1\n",
    "            dist = find_if_close(cnt1,cnt2)\n",
    "            if dist == True:\n",
    "                val = min(status[i],status[x])\n",
    "                status[x] = status[i] = val\n",
    "            else:\n",
    "                if status[x]==status[i]:\n",
    "                    status[x] = i+1\n",
    "\n",
    "unified = []\n",
    "maximum = int(status.max())+1\n",
    "for i in range(maximum):\n",
    "    pos = np.where(status==i)[0]\n",
    "    if pos.size != 0:\n",
    "        cont = np.vstack(contours[i] for i in pos)\n",
    "        hull = cv2.convexHull(cont)\n",
    "        unified.append(hull)\n",
    "\n",
    "cv2.drawContours(img,unified,-1,(0,255,0),2)\n",
    "cv2.drawContours(thresh,unified,-1,255,-1)\n",
    "cv2.imshow('output',img)\n",
    "cv2.imshow('output1',thresh)\n",
    "cv2.waitKey(0)\n",
    "cv2.destroyAllWindows()\"\"\""
   ]
  },
  {
   "cell_type": "code",
   "execution_count": null,
   "metadata": {},
   "outputs": [],
   "source": []
  }
 ],
 "metadata": {
  "kernelspec": {
   "display_name": "Python [conda env:openCv] *",
   "language": "python",
   "name": "conda-env-openCv-py"
  },
  "language_info": {
   "codemirror_mode": {
    "name": "ipython",
    "version": 3
   },
   "file_extension": ".py",
   "mimetype": "text/x-python",
   "name": "python",
   "nbconvert_exporter": "python",
   "pygments_lexer": "ipython3",
   "version": "3.8.8"
  }
 },
 "nbformat": 4,
 "nbformat_minor": 4
}
