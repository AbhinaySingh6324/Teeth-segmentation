{
 "cells": [
  {
   "cell_type": "code",
   "execution_count": 1,
   "id": "16f3c877",
   "metadata": {},
   "outputs": [],
   "source": [
    "import cv2\n",
    "import numpy as np\n",
    "from PIL import Image\n",
    "\n",
    "cap=cv2.imread(\"11.jpeg\")\n",
    "frame=cap\n",
    "hsv = cv2.cvtColor(frame, cv2.COLOR_BGR2HSV)\n"
   ]
  },
  {
   "cell_type": "code",
   "execution_count": 3,
   "id": "f731cab8",
   "metadata": {},
   "outputs": [
    {
     "name": "stdout",
     "output_type": "stream",
     "text": [
      "(40.88975780448391, 48.78096520219935, 73.1157456077325, 0.0)\n"
     ]
    },
    {
     "ename": "NameError",
     "evalue": "name 'Image' is not defined",
     "output_type": "error",
     "traceback": [
      "\u001b[1;31m---------------------------------------------------------------------------\u001b[0m",
      "\u001b[1;31mNameError\u001b[0m                                 Traceback (most recent call last)",
      "\u001b[1;32m<ipython-input-3-921c1261f85d>\u001b[0m in \u001b[0;36m<module>\u001b[1;34m\u001b[0m\n\u001b[0;32m     60\u001b[0m \u001b[1;33m\u001b[0m\u001b[0m\n\u001b[0;32m     61\u001b[0m \u001b[1;31m# Open the image with PIL and load it to RGB pixelpoints\u001b[0m\u001b[1;33m\u001b[0m\u001b[1;33m\u001b[0m\u001b[1;33m\u001b[0m\u001b[0m\n\u001b[1;32m---> 62\u001b[1;33m \u001b[0mmask2\u001b[0m \u001b[1;33m=\u001b[0m \u001b[0mImage\u001b[0m\u001b[1;33m.\u001b[0m\u001b[0mopen\u001b[0m\u001b[1;33m(\u001b[0m\u001b[1;34m'temp.png'\u001b[0m\u001b[1;33m)\u001b[0m\u001b[1;33m\u001b[0m\u001b[1;33m\u001b[0m\u001b[0m\n\u001b[0m\u001b[0;32m     63\u001b[0m \u001b[0mpix\u001b[0m \u001b[1;33m=\u001b[0m \u001b[0mmask2\u001b[0m\u001b[1;33m.\u001b[0m\u001b[0mload\u001b[0m\u001b[1;33m(\u001b[0m\u001b[1;33m)\u001b[0m\u001b[1;33m\u001b[0m\u001b[1;33m\u001b[0m\u001b[0m\n\u001b[0;32m     64\u001b[0m \u001b[0mx\u001b[0m\u001b[1;33m,\u001b[0m\u001b[0my\u001b[0m \u001b[1;33m=\u001b[0m \u001b[0mmask2\u001b[0m\u001b[1;33m.\u001b[0m\u001b[0msize\u001b[0m\u001b[1;33m\u001b[0m\u001b[1;33m\u001b[0m\u001b[0m\n",
      "\u001b[1;31mNameError\u001b[0m: name 'Image' is not defined"
     ]
    }
   ],
   "source": [
    "img=frame\n",
    "kernel = np.ones((15,15),np.uint8)\n",
    "\n",
    "# Perform closing to remove hair and blur the image\n",
    "closing = cv2.morphologyEx(img,cv2.MORPH_CLOSE,kernel, iterations = 2)\n",
    "blur = cv2.blur(closing,(15,15))\n",
    "\n",
    "# Binarize the image\n",
    "gray = cv2.cvtColor(blur,cv2.COLOR_BGR2GRAY)\n",
    "_, thresh = cv2.threshold(gray,0,255,cv2.THRESH_BINARY_INV+cv2.THRESH_OTSU)\n",
    "\n",
    "\n",
    "# Search for contours and select the biggest one\n",
    "contours, hierarchy =     cv2.findContours(thresh,cv2.RETR_TREE,cv2.CHAIN_APPROX_NONE)\n",
    "cnt = max(contours, key=cv2.contourArea)\n",
    "\n",
    "# Create a new mask for the result image\n",
    "h, w = img.shape[:2]\n",
    "mask = np.zeros((h, w), np.uint8)\n",
    "\n",
    "# Draw the contour on the new mask and perform the bitwise operation\n",
    "cv2.drawContours(mask, [cnt],-1, 255, -1)\n",
    "res = cv2.bitwise_and(img, img, mask=mask)\n",
    "\n",
    "# Calculate the mean color of the contour\n",
    "mean = cv2.mean(res, mask = mask)\n",
    "print(mean)\n",
    "\n",
    "# Make some sort of criterion as the ratio hair vs. skin color varies\n",
    "# thus makes it hard to unify the threshold.\n",
    "# NOTE that this is only for example and it will not work with all images!!!\n",
    "\n",
    "if mean[2] >182:\n",
    "    bp = mean[0]/100*35\n",
    "    gp = mean[1]/100*35\n",
    "    rp = mean[2]/100*35   \n",
    "\n",
    "elif 182 > mean[2] >160:\n",
    "    bp = mean[0]/100*30\n",
    "    gp = mean[1]/100*30\n",
    "    rp = mean[2]/100*30\n",
    "\n",
    "elif 160>mean[2]>150:\n",
    "    bp = mean[0]/100*50\n",
    "    gp = mean[1]/100*50\n",
    "    rp = mean[2]/100*50\n",
    "\n",
    "elif 150>mean[2]>120:\n",
    "    bp = mean[0]/100*60\n",
    "    gp = mean[1]/100*60\n",
    "    rp = mean[2]/100*60\n",
    "\n",
    "else:\n",
    "    bp = mean[0]/100*53\n",
    "    gp = mean[1]/100*53\n",
    "    rp = mean[2]/100*53\n",
    "\n",
    "# Write temporary image\n",
    "cv2.imwrite('temp.png', res)\n",
    "\n",
    "# Open the image with PIL and load it to RGB pixelpoints\n",
    "mask2 = Image.open('temp.png')\n",
    "pix = mask2.load()\n",
    "x,y = mask2.size\n",
    "\n",
    "# Itearate through the image and make some sort of logic to replace the pixels that\n",
    "# differs from the mean of the image\n",
    "# NOTE that this alghorithm is for example and it will not work with other images\n",
    "\n",
    "for i in range(0,x):\n",
    "    for j in range(0,y):\n",
    "        if -1<pix[i,j][0]<bp or -1<pix[i,j][1]<gp or -1<pix[i,j][2]<rp:\n",
    "            try:\n",
    "                pix[i,j] = b,g,r\n",
    "            except:\n",
    "                pix[i,j] = (int(mean[0]),int(mean[1]),int(mean[2]))\n",
    "        else:\n",
    "            b,g,r = pix[i,j]\n",
    "\n",
    "# Transform the image back to cv2 format and mask the result         \n",
    "res = np.array(mask2)\n",
    "res = res[:,:,::-1].copy()\n",
    "final = cv2.bitwise_and(res, res, mask=mask)\n",
    "\n",
    "# Display the result\n",
    "cv2.imshow('img', final)\n",
    "cv2.waitKey(0)\n",
    "cv2.destroyAllWindows()"
   ]
  },
  {
   "cell_type": "code",
   "execution_count": null,
   "id": "cf6205a5",
   "metadata": {},
   "outputs": [],
   "source": []
  }
 ],
 "metadata": {
  "kernelspec": {
   "display_name": "Python [conda env:openCv] *",
   "language": "python",
   "name": "conda-env-openCv-py"
  },
  "language_info": {
   "codemirror_mode": {
    "name": "ipython",
    "version": 3
   },
   "file_extension": ".py",
   "mimetype": "text/x-python",
   "name": "python",
   "nbconvert_exporter": "python",
   "pygments_lexer": "ipython3",
   "version": "3.8.8"
  }
 },
 "nbformat": 4,
 "nbformat_minor": 5
}
