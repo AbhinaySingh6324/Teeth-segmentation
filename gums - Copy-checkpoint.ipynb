{
 "cells": [
  {
   "cell_type": "code",
   "execution_count": 1,
   "metadata": {},
   "outputs": [],
   "source": [
    "import cv2\n",
    "import numpy as np"
   ]
  },
  {
   "cell_type": "code",
   "execution_count": 2,
   "metadata": {},
   "outputs": [],
   "source": [
    "#image2=cap.copy()\n",
    "#himg = cv2.cvtColor(image2, cv2.COLOR_BGR2HSV)\n",
    "def ResizeWithAspectRatio(image, width=None, height=None, inter=cv2.INTER_AREA):\n",
    "    dim = None\n",
    "    (h, w) = image.shape[:2]\n",
    "\n",
    "    if width is None and height is None:\n",
    "        return image\n",
    "    if width is None:\n",
    "        r = height / float(h)\n",
    "        dim = (int(w * r), height)\n",
    "    else:\n",
    "        r = width / float(w)\n",
    "        dim = (width, int(h * r))\n",
    "\n",
    "    return cv2.resize(image, dim, interpolation=inter)\n",
    "\n",
    "\n"
   ]
  },
  {
   "cell_type": "code",
   "execution_count": 3,
   "metadata": {},
   "outputs": [],
   "source": [
    "\n",
    "cap=cv2.imread(\"1/(19).jpg\")\n",
    "cap = ResizeWithAspectRatio(cap, width=600)\n",
    "frame=cap"
   ]
  },
  {
   "cell_type": "code",
   "execution_count": 4,
   "metadata": {},
   "outputs": [],
   "source": [
    "hsv = cv2.cvtColor(frame, cv2.COLOR_BGR2HSV)\n",
    "mask1 = cv2.inRange(hsv,(0, 20, 20), (15, 255, 255) )\n",
    "cv2.imshow(\"m2\", frame);\n",
    "cv2.imshow(\"m1\", mask1);\n",
    "cv2.waitKey(0)\n",
    "cv2.destroyAllWindows()"
   ]
  },
  {
   "cell_type": "code",
   "execution_count": 5,
   "metadata": {},
   "outputs": [
    {
     "name": "stdout",
     "output_type": "stream",
     "text": [
      "11.91148148148148\n"
     ]
    }
   ],
   "source": [
    "pixels = cv2.countNonZero(mask1) # OR\n",
    "image_area = frame.shape[0] * frame.shape[1]\n",
    "area_ratio = (pixels / image_area) * 100\n",
    "print(area_ratio)\n",
    "if(area_ratio<80 and area_ratio>20):\n",
    "    des = mask1.copy()\n",
    "    des= cv2.bitwise_not(des)\n",
    "    contour,hier = cv2.findContours(des,cv2.RETR_CCOMP,cv2.CHAIN_APPROX_SIMPLE)\n",
    "\n",
    "    for cnt in contour:\n",
    "        cv2.drawContours(des,[cnt],0,255,-1)\n",
    "    cv2.imshow(\"m3\", des);\n",
    "    mask1=cv2.bitwise_not(des)\n",
    "    cv2.waitKey(0)\n",
    "    cv2.destroyAllWindows()\n"
   ]
  },
  {
   "cell_type": "code",
   "execution_count": 6,
   "metadata": {},
   "outputs": [],
   "source": [
    "gums = cv2.bitwise_and(frame,frame, mask=mask1)\n",
    "cv2.imshow(\"m1\", mask1);\n",
    "cv2.imshow(\"gums\", gums);\n",
    "cv2.waitKey(0)\n",
    "cv2.destroyAllWindows()"
   ]
  },
  {
   "cell_type": "code",
   "execution_count": 7,
   "metadata": {},
   "outputs": [],
   "source": [
    "image=gums.copy()\n",
    "\"\"\"\n",
    "hsv = cv2.cvtColor(frame, cv2.COLOR_BGR2HSV)\n",
    "\n",
    "lower_red = np.array([30,150,50])\n",
    "upper_red = np.array([255,255,180])\n",
    "\n",
    "mask = cv2.inRange(hsv, lower_red, upper_red)\n",
    "res = cv2.bitwise_and(gums,gums, mask= mask)\n",
    "\"\"\"\n",
    "cv2.imshow('Original',gums)\n",
    "edges = cv2.Canny(gums,100,150)\n",
    "cv2.imshow('Edges',edges)\n",
    "\n",
    "# Exit Condition wait 5 msec and Esc is pressed\n",
    "cv2.waitKey(0)\n",
    "cv2.destroyAllWindows()\n",
    "\n",
    "contours, hierarchy= cv2.findContours(edges, cv2.RETR_EXTERNAL, cv2.CHAIN_APPROX_SIMPLE)\n",
    "\n",
    "cv2.drawContours(image, contours, -1, (0,255,0),1)\n",
    "\n",
    "cv2.imshow('External Contours', image) \n",
    "cv2.waitKey(0)\n",
    "cv2.destroyAllWindows()\n",
    "img1=cap.copy()\n"
   ]
  },
  {
   "cell_type": "code",
   "execution_count": 8,
   "metadata": {},
   "outputs": [],
   "source": [
    "for i in range(0,img1.shape[0]):\n",
    "    for j in range(0,img1.shape[1]):\n",
    "        if(image[i,j,0]==0 and image[i,j,1]==0 and image[i,j,2]==0 ):\n",
    "            img1[i,j]=(0,255,0)\n",
    "        else:\n",
    "            break\n",
    "    for j in range(img1.shape[1]-1,0,-1):\n",
    "        if(image[i,j,0]==0 and image[i,j,1]==0 and image[i,j,2]==0 ):\n",
    "            img1[i,j]=(0,255,0)\n",
    "        else:\n",
    "            break;\n",
    "cv2.imshow('External Contours', image) \n",
    "cv2.imshow('External Contours1', img1) \n",
    "cv2.waitKey(0)\n",
    "cv2.destroyAllWindows()"
   ]
  },
  {
   "cell_type": "code",
   "execution_count": 9,
   "metadata": {},
   "outputs": [],
   "source": [
    "hsv = cv2.cvtColor(img1, cv2.COLOR_BGR2HSV)\n",
    "mask1 = cv2.inRange(img1,(0, 255, 0), (0, 255, 0) )\n",
    "mask1=cv2.bitwise_not(mask1)\n",
    "mask2=cv2.inRange(hsv,(9, 20, 20), (35, 255, 255) )\n",
    "\n",
    "\n",
    "des = mask2.copy()\n",
    "#des= cv2.bitwise_not(des)\n",
    "contour,hier = cv2.findContours(des,cv2.RETR_CCOMP,cv2.CHAIN_APPROX_SIMPLE)\n",
    "\n",
    "for cnt in contour:\n",
    "    cv2.drawContours(des,[cnt],0,255,-1)\n",
    "cv2.imshow(\"m3\", des);\n",
    "mask2=des\n",
    "cv2.waitKey(0)\n",
    "cv2.destroyAllWindows()\n",
    "\n",
    "des = mask2.copy()\n",
    "#des= cv2.bitwise_not(des)\n",
    "contour,hier = cv2.findContours(des,cv2.RETR_CCOMP,cv2.CHAIN_APPROX_SIMPLE)\n",
    "\n",
    "for cnt in contour:\n",
    "    cv2.drawContours(des,[cnt],0,255,-1)\n",
    "cv2.imshow(\"m3\", des);\n",
    "mask2=des\n",
    "cv2.waitKey(0)\n",
    "cv2.destroyAllWindows()\n",
    "\n",
    "mask= cv2.bitwise_and(mask1,mask2)\n",
    "#mask=cv2.bitwise_not(mask)\n",
    "res=cv2.bitwise_and(img1,img1,mask=mask)\n",
    "res[np.where((res==[0,0,0]).all(axis=2))] = [0,255,0]\n",
    "cv2.imshow(\"m2\", frame);\n",
    "cv2.imshow(\"m1\", mask);\n",
    "cv2.imshow(\"m3\", res);\n",
    "\n",
    "cv2.waitKey(0)\n",
    "cv2.destroyAllWindows()\n",
    "\n"
   ]
  },
  {
   "cell_type": "code",
   "execution_count": 10,
   "metadata": {},
   "outputs": [
    {
     "data": {
      "text/plain": [
       "'\\nimage2=cap.copy()\\nhimg = cv2.cvtColor(image2, cv2.COLOR_BGR2HSV)\\n\\nmask1 = cv2.inRange(hsv,(23, 20, 20), (40, 255, 255) )\\ncv2.imshow(\"m1\", mask1);\\ngums = cv2.bitwise_and(frame,frame, mask=mask1)\\ncv2.imshow(\"gums\", gums);\\ncv2.waitKey(0)\\ncv2.destroyAllWindows()\\n'"
      ]
     },
     "execution_count": 10,
     "metadata": {},
     "output_type": "execute_result"
    }
   ],
   "source": [
    "##Gray\n",
    "\"\"\"\n",
    "image2=cap.copy()\n",
    "himg = cv2.cvtColor(image2, cv2.COLOR_BGR2HSV)\n",
    "\n",
    "mask1 = cv2.inRange(hsv,(23, 20, 20), (40, 255, 255) )\n",
    "cv2.imshow(\"m1\", mask1);\n",
    "gums = cv2.bitwise_and(frame,frame, mask=mask1)\n",
    "cv2.imshow(\"gums\", gums);\n",
    "cv2.waitKey(0)\n",
    "cv2.destroyAllWindows()\n",
    "\"\"\""
   ]
  },
  {
   "cell_type": "code",
   "execution_count": 11,
   "metadata": {},
   "outputs": [
    {
     "data": {
      "text/plain": [
       "'image1=cap.copy()\\nhimg = cv2.cvtColor(image1, cv2.COLOR_BGR2HSV)\\nmask1 = cv2.inRange(hsv,(0,20,20), (255,100,100) )\\nmask=cv2.bitwise_not(mask1)\\ncv2.imshow(\"m1\", mask1);\\ngums = cv2.bitwise_and(frame,frame, mask=mask)\\nim = cv2.resize(gums, (480, 640))\\ncv2.imshow(\"gums\", im);\\n\\ncv2.waitKey(0)\\ncv2.destroyAllWindows()\\n'"
      ]
     },
     "execution_count": 11,
     "metadata": {},
     "output_type": "execute_result"
    }
   ],
   "source": [
    "\"\"\"image1=cap.copy()\n",
    "himg = cv2.cvtColor(image1, cv2.COLOR_BGR2HSV)\n",
    "mask1 = cv2.inRange(hsv,(0,20,20), (255,100,100) )\n",
    "mask=cv2.bitwise_not(mask1)\n",
    "cv2.imshow(\"m1\", mask1);\n",
    "gums = cv2.bitwise_and(frame,frame, mask=mask)\n",
    "im = cv2.resize(gums, (480, 640))\n",
    "cv2.imshow(\"gums\", im);\n",
    "\n",
    "cv2.waitKey(0)\n",
    "cv2.destroyAllWindows()\n",
    "\"\"\""
   ]
  },
  {
   "cell_type": "code",
   "execution_count": null,
   "metadata": {},
   "outputs": [],
   "source": []
  },
  {
   "cell_type": "code",
   "execution_count": 12,
   "metadata": {},
   "outputs": [],
   "source": [
    "rgb = cv2.cvtColor(res.copy(), cv2.COLOR_BGR2HSV)\n",
    "mask = cv2.inRange(rgb, (9, 117, 50),(18,255,114) )\n",
    "cavity = cv2.bitwise_and(frame,frame, mask=mask)\n",
    "cv2.imshow('Green',res)\n",
    "cv2.imshow('mask',mask)\n",
    "cv2.imshow('hola1',cavity)\n",
    "cv2.imshow('orig',frame)\n",
    "cv2.waitKey(0)\n",
    "cv2.destroyAllWindows()\n"
   ]
  },
  {
   "cell_type": "code",
   "execution_count": 13,
   "metadata": {},
   "outputs": [],
   "source": [
    "def count_pixel(x,w,y,h,img):\n",
    "    count=0;\n",
    "    for i in range(x,w):\n",
    "        for j in range(y,h):\n",
    "            if(img[i,j,0]==0 and img[i,j,1]==0 and img[i,j,2]==0 ):\n",
    "                count+=1;\n",
    "    return count"
   ]
  },
  {
   "cell_type": "code",
   "execution_count": 14,
   "metadata": {},
   "outputs": [],
   "source": [
    "kernel = np.ones((20,20), np.uint8)\n",
    "img = cv2.dilate(mask, kernel, iterations=1)\n",
    "output_img=frame.copy()\n",
    "contours,x= cv2.findContours(img.copy(), cv2.RETR_EXTERNAL, cv2.CHAIN_APPROX_SIMPLE)\n",
    "for c in contours:\n",
    "    # get the bounding rect\n",
    "    x, y, w, h = cv2.boundingRect(c)\n",
    "    # draw a white rectangle to visualize the bounding rect\n",
    "    cv2.rectangle(output_img, (x, y), (x + w, y + h), 255, 1)\n",
    "\n",
    "cv2.imshow('output',output_img)\n",
    "cv2.waitKey(0)\n",
    "cv2.destroyAllWindows()\n"
   ]
  },
  {
   "cell_type": "code",
   "execution_count": null,
   "metadata": {},
   "outputs": [],
   "source": []
  }
 ],
 "metadata": {
  "kernelspec": {
   "display_name": "Python [conda env:openCv] *",
   "language": "python",
   "name": "conda-env-openCv-py"
  },
  "language_info": {
   "codemirror_mode": {
    "name": "ipython",
    "version": 3
   },
   "file_extension": ".py",
   "mimetype": "text/x-python",
   "name": "python",
   "nbconvert_exporter": "python",
   "pygments_lexer": "ipython3",
   "version": "3.8.8"
  }
 },
 "nbformat": 4,
 "nbformat_minor": 4
}
